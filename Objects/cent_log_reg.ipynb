{
 "cells": [
  {
   "attachments": {},
   "cell_type": "markdown",
   "metadata": {},
   "source": [
    "<div class=\"alert alert-block alert-info\">\n",
    "    <b><p style=\"font-size: XX-large\">Logistic Regression:</p></b> </div>  \n",
    "    <b><p style=\"font-size: X-large\">Using Centipawn to Predict Win Probability in Chess</p></b> </div> \n",
    "Joseph Nelson Farrell & James Parkington\n",
    "  \n",
    "DS 5020: Linear Algebra & Probability for DS\n",
    "    \n",
    "Northeastern University\n",
    "    \n",
    "Westin Viles, Phd.\n",
    "    \n",
    "08/01/2023"
   ]
  },
  {
   "attachments": {},
   "cell_type": "markdown",
   "metadata": {},
   "source": [
    "<div class=\"alert alert-block alert-info\">\n",
    "    <b><p style=\"font-size: X-large\">Import Packages</p></b> </div> "
   ]
  },
  {
   "cell_type": "code",
   "execution_count": 102,
   "metadata": {},
   "outputs": [],
   "source": [
    "import pandas as pd\n",
    "import os\n",
    "import numpy as np\n",
    "from sklearn.model_selection import train_test_split\n",
    "from sklearn.linear_model import LogisticRegression\n",
    "from sklearn.metrics import accuracy_score\n",
    "import matplotlib.pyplot as plt\n",
    "import seaborn as sns"
   ]
  },
  {
   "attachments": {},
   "cell_type": "markdown",
   "metadata": {},
   "source": [
    "<div class=\"alert alert-block alert-info\">\n",
    "    <b><p style=\"font-size: X-large\">Function to read in data</p></b> </div>"
   ]
  },
  {
   "cell_type": "code",
   "execution_count": 103,
   "metadata": {},
   "outputs": [],
   "source": [
    "def combine_folders(base_directory: str)-> pd.DataFrame:\n",
    "    '''\n",
    "        Function: combine_folders\n",
    "        Parameters: 1 string; the path directory to the folder containing the folders to be combined\n",
    "        Returns: 1 pd.DataFrame\n",
    "\n",
    "        This function will take all contents from all the folder within a folder and combine them all \n",
    "        in a single dataframe\n",
    "    '''\n",
    "\n",
    "    # list the subdirectories (folders) within the base directory\n",
    "    subdirectories = [subdir for subdir in os.listdir(base_directory) if os.path.isdir(os.path.join(base_directory, subdir))]\n",
    "\n",
    "    # initialize an empty list to store DataFrames\n",
    "    dataframes = []\n",
    "\n",
    "    # loop through the subdirectories\n",
    "    for subdir in subdirectories:\n",
    "        subdir_path = os.path.join(base_directory, subdir)\n",
    "        \n",
    "        # list the contents of the current subdirectory\n",
    "        subdirectory_contents = os.listdir(subdir_path)\n",
    "        \n",
    "        # read each Parquet file into a DataFrame and append to the list\n",
    "        for file_name in subdirectory_contents:\n",
    "            file_path = os.path.join(subdir_path, file_name)\n",
    "            if file_name.endswith('.parquet'):\n",
    "                df = pd.read_parquet(file_path)\n",
    "                dataframes.append(df)\n",
    "\n",
    "    # concatenate the list of DataFrames into a single DataFrame\n",
    "    boards_df = pd.concat(dataframes, ignore_index=True)\n",
    "    return boards_df"
   ]
  },
  {
   "attachments": {},
   "cell_type": "markdown",
   "metadata": {},
   "source": [
    "<div class=\"alert alert-block alert-info\">\n",
    "    <b><p style=\"font-size: X-large\">Function to generate dataframe</p></b> </div>"
   ]
  },
  {
   "cell_type": "code",
   "execution_count": 104,
   "metadata": {},
   "outputs": [],
   "source": [
    "def extract_eval_and_outcome(df: pd.DataFrame) -> pd.DataFrame:\n",
    "    '''\n",
    "        Function: extract_eval_and_outcome\n",
    "        Parameters: 1 pd.DataFrame\n",
    "        Returns: 1 pd.DataFrame\n",
    "\n",
    "        This function extract the outcome from the game and the centipawn evaluation at the end\n",
    "        of the game. It will return a dataframe with 2 columns\n",
    "    '''\n",
    "    # filter for games longer than 15 moves\n",
    "    df = df.loc[df['ply'] > 15]\n",
    "\n",
    "    # extract outcome\n",
    "    df['win_condition'] = df['pgn'].str.extract(r'\\[Result \"([^\"]+)\"\\]')\n",
    "\n",
    "    # filter for games that do not end in a draw\n",
    "    df = df[(df['win_condition'].str.contains('0-')) | (df['win_condition'].str.contains('1-'))]\n",
    "\n",
    "    # recode outcome as an integer, 1 for white win, 0 for black win\n",
    "    df['winner'] = df['win_condition'].map(lambda x: 1 if x == '1-0' else 0)\n",
    "\n",
    "    # generate a list of unique games\n",
    "    unique_games = df['game_id'].unique()\n",
    "\n",
    "    # initialize a new df\n",
    "    new_df = pd.DataFrame()\n",
    "\n",
    "    # iterate over unique games selecting outcome and ending centipawn eval\n",
    "    for game in unique_games:\n",
    "        x = df[(df['game_id'] == game)]\n",
    "        max_ply = x['ply'].max()\n",
    "        new_col = x.loc[x['ply'] == max_ply][['centipawn_evaluation', 'winner']]\n",
    "        new_df = pd.concat([new_df, new_col], axis = 0)\n",
    "\n",
    "    # return new df\n",
    "    return new_df\n"
   ]
  },
  {
   "attachments": {},
   "cell_type": "markdown",
   "metadata": {},
   "source": [
    "<div class=\"alert alert-block alert-info\">\n",
    "    <b><p style=\"font-size: X-large\">Read in Data & Generate Dataframe</p></b> </div>"
   ]
  },
  {
   "cell_type": "code",
   "execution_count": 105,
   "metadata": {},
   "outputs": [
    {
     "name": "stderr",
     "output_type": "stream",
     "text": [
      "/var/folders/jw/62ly49f15zj22rm_89qjsv940000gn/T/ipykernel_72286/1957700597.py:14: SettingWithCopyWarning: \n",
      "A value is trying to be set on a copy of a slice from a DataFrame.\n",
      "Try using .loc[row_indexer,col_indexer] = value instead\n",
      "\n",
      "See the caveats in the documentation: https://pandas.pydata.org/pandas-docs/stable/user_guide/indexing.html#returning-a-view-versus-a-copy\n",
      "  df['win_condition'] = df['pgn'].str.extract(r'\\[Result \"([^\"]+)\"\\]')\n"
     ]
    }
   ],
   "source": [
    "# define the path to the directory containing your folders\n",
    "base_directory = \"/Users/nelsonfarrell/Documents/Northeastern/5020/final_project/Project-Gambit/Games/Storage\"\n",
    "\n",
    "# invoke combine folders()\n",
    "boards_df = combine_folders(base_directory)\n",
    "\n",
    "# invoke extract_eval\n",
    "new_df = extract_eval_and_outcome(boards_df)"
   ]
  },
  {
   "attachments": {},
   "cell_type": "markdown",
   "metadata": {},
   "source": [
    "<div class=\"alert alert-block alert-info\">\n",
    "    <b><p style=\"font-size: X-large\">Regression Functions</p></b> </div>"
   ]
  },
  {
   "cell_type": "code",
   "execution_count": 106,
   "metadata": {},
   "outputs": [],
   "source": [
    "def sigmoid(beta: np.ndarray, x: np.ndarray) -> float:\n",
    "    '''\n",
    "        Function: sigmoid\n",
    "        Parameters: 2 np.arrays\n",
    "        Returns: 1 float\n",
    "\n",
    "        The function takes two arrays, the beta array and array predictor variables. It returns the \n",
    "        probability P(Y = y|X = x)\n",
    "    '''\n",
    "    # compute logistitc fuction\n",
    "    p_y = 1/(1+np.exp(-(beta[0] + beta[1]*x)))\n",
    "\n",
    "    # return p_y\n",
    "    return p_y \n",
    "\n",
    "def gradient(beta: np.ndarray, x_train: np.ndarray, y_train: np.ndarray) -> np.ndarray:\n",
    "    '''\n",
    "        Function: gradient\n",
    "        Parameters: 3 np.array; beta vector and the training vectors\n",
    "        Returns: 1 np.array\n",
    "\n",
    "        This function will return the gradient, i.e., the two partial derivatives of sigmoid() evaluated\n",
    "        at the current value of the beta vector. The derivatives have been hard coded into the function.\n",
    "    '''\n",
    "    # invoke sigmoid function\n",
    "    pi = sigmoid(beta, x_train)\n",
    "\n",
    "    # compute gradient\n",
    "    gradient = np.array([np.mean(pi-y_train),np.mean((pi-y_train)*x_train)])\n",
    "\n",
    "    # return gradient\n",
    "    return gradient\n",
    "\n",
    "def hessian(beta: np.ndarray, x_train: np.ndarray) -> np.ndarray:\n",
    "    '''\n",
    "        Function: hessian\n",
    "        Parameters: 2 np.array; beta vector and the training vector\n",
    "        Returns: 1 np.array\n",
    "\n",
    "        This function will return the hessian matrix, i.e., the two second partial derivatives and the two mixed second\n",
    "        partial derivatives of sigmoid() evaluated at the current value of the beta vector. The derivatives have been \n",
    "        hard coded into the function.\n",
    "    '''\n",
    "     # invoke sigmoid function\n",
    "    pi = sigmoid(beta, x_train)\n",
    "\n",
    "    # compute hessian\n",
    "    hessian = np.array([[np.mean(pi*(1-pi)),np.mean(pi*(1-pi)*x_train)],[np.mean(pi*(1-pi)*x_train),np.mean(pi*(1-pi)*x_train*x_train)]])\n",
    "    return hessian\n",
    "\n",
    "def newton_method(x_train: np.ndarray, y_train: np.ndarray, beta: np.ndarray = None, eps: float = 1e-3, ) -> np.ndarray:\n",
    "    '''\n",
    "        Function: newton_method\n",
    "        Parameters: 3 np.arrays, 1 optional\n",
    "        Returns: 1 np.array\n",
    "\n",
    "        This function contains an implementation of Newtons's Method for convex optimazation for a \n",
    "        multivariate function. This function uses gradient() and hessian() functions.\n",
    "\n",
    "        Required parameters are the training vectors, the beta vector and the tollerance are optional.\n",
    "    '''\n",
    "    # if beta is not provided initialize a 0 vector and assign to beta\n",
    "    if beta is None:\n",
    "        beta = np.array([0,0])\n",
    "    \n",
    "    # assign beta_old to equal beta\n",
    "    beta_old = beta\n",
    "\n",
    "    # this implements Newton's method\n",
    "    beta = beta - np.matmul(np.linalg.inv(hessian(beta, x_train)), gradient(beta, x_train, y_train))\n",
    "\n",
    "    # this will check if difference between beta_old and beta is within tollerance\n",
    "    if np.max(np.abs(beta-beta_old))<eps:\n",
    "\n",
    "        # if yes, return beta\n",
    "        return beta\n",
    "    else:\n",
    "\n",
    "        # if no, recursive call to newton_method\n",
    "        return newton_method(x_train, y_train, beta)"
   ]
  },
  {
   "attachments": {},
   "cell_type": "markdown",
   "metadata": {},
   "source": [
    "<div class=\"alert alert-block alert-info\">\n",
    "    <b><p style=\"font-size: X-large\">Execute Regression </p></b> </div>\n",
    "\n",
    "This block contains to invocation of the regresssion functions and the implentation of the model"
   ]
  },
  {
   "cell_type": "code",
   "execution_count": 107,
   "metadata": {},
   "outputs": [
    {
     "name": "stdout",
     "output_type": "stream",
     "text": [
      "The beta vector produced by the model is: [0.41303899 0.01002613]\n",
      "The overall accuracy of the model is: 0.938\n"
     ]
    }
   ],
   "source": [
    "# generate two vectors to test the model after training\n",
    "x_test = new_df['centipawn_evaluation'].to_numpy(dtype=np.float32)\n",
    "y_test = new_df['winner'].to_numpy()\n",
    "\n",
    "# generate a sample of 200; create training vectors\n",
    "test_df = new_df.sample(200)\n",
    "y_train = test_df['winner'].to_numpy()\n",
    "x_train = test_df['centipawn_evaluation'].to_numpy(dtype=np.float32)\n",
    "\n",
    "# invoke newton_method using the training vectors to train the model\n",
    "betahat = newton_method(x_train, y_train)\n",
    "print('The beta vector produced by the model is:', betahat)\n",
    "\n",
    "# invoke sigmoid function with betahat to make predictions\n",
    "prob_predict = sigmoid(betahat, x_test)\n",
    "\n",
    "# make class assigments based on probability estimates\n",
    "y_predict = np.array([1 if x >= .5 else 0 for x in prob_predict])\n",
    "\n",
    "# compute overall accuracy\n",
    "accuracy = (np.sum((y_predict == y_test))/len(y_test)).round(4)\n",
    "\n",
    "#display overall accurace\n",
    "print('The overall accuracy of the model is:', accuracy)"
   ]
  },
  {
   "attachments": {},
   "cell_type": "markdown",
   "metadata": {},
   "source": [
    "<div class=\"alert alert-block alert-info\">\n",
    "    <b><p style=\"font-size: X-large\">Summary Report </p></b> </div>\n",
    "\n",
    "This summary report contains the following accuracy measures:\n",
    "\n",
    "* **Precison**: precison is calcauted as: true_positives / (true_positves + false_positves)\n",
    "* **Recall**: recall is computed as: true_positives / (true_positves + negatives)\n",
    "* **F-score** F-score is computed as: (2 * precision * recall)/ (precision + recall)"
   ]
  },
  {
   "cell_type": "code",
   "execution_count": 108,
   "metadata": {},
   "outputs": [
    {
     "data": {
      "text/html": [
       "<div>\n",
       "<style scoped>\n",
       "    .dataframe tbody tr th:only-of-type {\n",
       "        vertical-align: middle;\n",
       "    }\n",
       "\n",
       "    .dataframe tbody tr th {\n",
       "        vertical-align: top;\n",
       "    }\n",
       "\n",
       "    .dataframe thead th {\n",
       "        text-align: right;\n",
       "    }\n",
       "</style>\n",
       "<table border=\"1\" class=\"dataframe\">\n",
       "  <thead>\n",
       "    <tr style=\"text-align: right;\">\n",
       "      <th></th>\n",
       "      <th>Outcome</th>\n",
       "      <th>Precision</th>\n",
       "      <th>Recall</th>\n",
       "      <th>f1-score</th>\n",
       "      <th>Support</th>\n",
       "    </tr>\n",
       "  </thead>\n",
       "  <tbody>\n",
       "    <tr>\n",
       "      <th>0</th>\n",
       "      <td>0</td>\n",
       "      <td>0.9697</td>\n",
       "      <td>0.8126</td>\n",
       "      <td>0.8842</td>\n",
       "      <td>5913.000</td>\n",
       "    </tr>\n",
       "    <tr>\n",
       "      <th>1</th>\n",
       "      <td>1</td>\n",
       "      <td>0.9278</td>\n",
       "      <td>0.9896</td>\n",
       "      <td>0.9577</td>\n",
       "      <td>14385.000</td>\n",
       "    </tr>\n",
       "    <tr>\n",
       "      <th>2</th>\n",
       "      <td>Accuracy</td>\n",
       "      <td>NaN</td>\n",
       "      <td>NaN</td>\n",
       "      <td>NaN</td>\n",
       "      <td>0.938</td>\n",
       "    </tr>\n",
       "  </tbody>\n",
       "</table>\n",
       "</div>"
      ],
      "text/plain": [
       "    Outcome  Precision  Recall  f1-score    Support\n",
       "0         0     0.9697  0.8126    0.8842   5913.000\n",
       "1         1     0.9278  0.9896    0.9577  14385.000\n",
       "2  Accuracy        NaN     NaN       NaN      0.938"
      ]
     },
     "metadata": {},
     "output_type": "display_data"
    }
   ],
   "source": [
    "# set varibles to data\n",
    "y_true = y_test\n",
    "y_pred = y_predict\n",
    "\n",
    "# for 1 case\n",
    "true_pos_1 = np.sum((y_true == 1) & (y_pred == 1))\n",
    "false_pos_1 = np.sum((y_true == 0) & (y_pred == 1))\n",
    "true_neg_1 = np.sum((y_true == 0) & (y_pred == 0))\n",
    "false_neg_1 = np.sum((y_true == 1) & (y_pred == 0))\n",
    "support_1 = sum(y_true == 1)\n",
    "\n",
    "# for 0 case\n",
    "true_pos_0 = np.sum((y_true == 0) & (y_pred == 0))\n",
    "false_pos_0 = np.sum((y_true == 1) & (y_pred == 0))\n",
    "true_neg_0 = np.sum((y_true == 1) & (y_pred == 1))\n",
    "false_neg_0 = np.sum((y_true == 0) & (y_pred == 1))\n",
    "support_0 = (sum((y_true == 0))).round(0)\n",
    "\n",
    "# compute measures of 1 case\n",
    "accuracy_1 = ((true_pos_1 + true_neg_1) / (true_pos_1 + false_pos_1 + true_neg_1 + false_neg_1)).round(4)\n",
    "precision_1 = (true_pos_1 / (true_pos_1 + false_pos_1)).round(4)\n",
    "recall_1 = (true_pos_1 / (true_pos_1 + false_neg_1)).round(4)\n",
    "f1_score_1 = (2 * (precision_1 * recall_1) / (precision_1 + recall_1)).round(4)\n",
    "\n",
    "# compute measures of 0 case\n",
    "accuracy_0 = ((true_pos_0 + true_neg_0) / (true_pos_0 + false_pos_0 + true_neg_0 + false_neg_0)).round(4)\n",
    "precision_0 = (true_pos_0 / (true_pos_0 + false_pos_0)).round(4)\n",
    "recall_0 = (true_pos_0 / (true_pos_0 + false_neg_0)).round(4)\n",
    "f1_score_0 = (2 * (precision_0 * recall_0) / (precision_0 + recall_0)).round(4)\n",
    "\n",
    "# generate dataframe\n",
    "df_dic = {'Outcome': [0,1, 'Accuracy'],\n",
    "          'Precision': [precision_0, precision_1, None],\n",
    "          'Recall': [recall_0, recall_1, None],\n",
    "          'f1-score': [f1_score_0, f1_score_1, None],\n",
    "          'Support': [support_0, support_1, accuracy]}\n",
    "\n",
    "# generate classification report df\n",
    "classification_report = pd.DataFrame(df_dic)\n",
    "display(classification_report)"
   ]
  },
  {
   "attachments": {},
   "cell_type": "markdown",
   "metadata": {},
   "source": [
    "<div class=\"alert alert-block alert-info\">\n",
    "    <b><p style=\"font-size: X-large\"> Confusion Matrix </p></b> </div>"
   ]
  },
  {
   "cell_type": "code",
   "execution_count": 109,
   "metadata": {},
   "outputs": [
    {
     "data": {
      "image/png": "[encoded data removed]",
      "text/plain": [
       "<Figure size 700x500 with 2 Axes>"
      ]
     },
     "metadata": {},
     "output_type": "display_data"
    }
   ],
   "source": [
    "# Create a confusion matrix\n",
    "confusion_matrix = np.array([[true_neg_0, false_pos_0],\n",
    "                             [false_neg_0, true_pos_0]])\n",
    "\n",
    "# Create a heatmap using Seaborn\n",
    "class_names=['White Win','Black Win']\n",
    "fig, ax = plt.subplots(figsize = (7,5))\n",
    "sns.heatmap(confusion_matrix, \n",
    "            annot = True, \n",
    "            cmap = \"Reds\", \n",
    "            linecolor = 'white', \n",
    "            linewidth = .5, \n",
    "            fmt = 'g')\n",
    "ax.set_xticklabels(class_names)\n",
    "ax.set_yticklabels(class_names)\n",
    "plt.tight_layout()\n",
    "plt.title('Confusion Matrix', size = 20, y = 1, weight = 'bold')\n",
    "plt.ylabel('Actual label')\n",
    "plt.xlabel('Predicted label');"
   ]
  },
  {
   "cell_type": "code",
   "execution_count": 110,
   "metadata": {},
   "outputs": [
    {
     "name": "stdout",
     "output_type": "stream",
     "text": [
      "skelean =  [0.01002613] 0.41304165269734133\n",
      "              precision    recall  f1-score   support\n",
      "\n",
      "           0       0.97      0.81      0.88      5913\n",
      "           1       0.93      0.99      0.96     14385\n",
      "\n",
      "    accuracy                           0.94     20298\n",
      "   macro avg       0.95      0.90      0.92     20298\n",
      "weighted avg       0.94      0.94      0.94     20298\n",
      "\n"
     ]
    }
   ],
   "source": [
    "from sklearn.linear_model import LogisticRegression\n",
    "from sklearn.linear_model import LogisticRegression\n",
    "from sklearn.model_selection import train_test_split\n",
    "from sklearn.metrics import accuracy_score\n",
    "from sklearn import metrics\n",
    "from sklearn.metrics import classification_report\n",
    "\n",
    "x_train = x_train.reshape(-1,1)\n",
    "# Create a Logistic Regression model\n",
    "logreg = LogisticRegression()\n",
    "\n",
    "# Fit the model to your data\n",
    "logreg.fit(x_train, y_train)\n",
    "\n",
    "# Retrieve the coefficients (betas)\n",
    "betas = logreg.coef_[0]\n",
    "intercept = logreg.intercept_[0]\n",
    "print(\"skelean = \", betas, intercept)\n",
    "\n",
    "# generate classification report\n",
    "print(classification_report(y_test, y_predict))"
   ]
  }
 ],
 "metadata": {
  "kernelspec": {
   "display_name": "default-env",
   "language": "python",
   "name": "python3"
  },
  "language_info": {
   "codemirror_mode": {
    "name": "ipython",
    "version": 3
   },
   "file_extension": ".py",
   "mimetype": "text/x-python",
   "name": "python",
   "nbconvert_exporter": "python",
   "pygments_lexer": "ipython3",
   "version": "3.11.3"
  },
  "orig_nbformat": 4,
  "vscode": {
   "interpreter": {
    "hash": "2a9933c149cc38893e208b36d7bfdf1b5e74eeea149a3a54fcc11f656e57f85d"
   }
  }
 },
 "nbformat": 4,
 "nbformat_minor": 2
}
