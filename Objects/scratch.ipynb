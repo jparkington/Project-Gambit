{
 "cells": [
  {
   "cell_type": "code",
   "execution_count": 20,
   "metadata": {},
   "outputs": [
    {
     "name": "stdout",
     "output_type": "stream",
     "text": [
      "                      pgn_id  ply             board_sum     progression_hash\n",
      "0        4966373121947802697    0  18446462598732906495  6548726006382385350\n",
      "1        1613272150230853183    0  18446462598732906495  6548726006382385350\n",
      "2        1613272150230853183    1  18446462598735003583  6838202551196677307\n",
      "3         127762129624462438    0  18446462598732906495  6548726006382385350\n",
      "4         127762129624462438    1  18446462598749683455 -1959233720066286525\n",
      "...                      ...  ...                   ...                  ...\n",
      "7054364 -2014757526705662466  236  13835102769989829121 -3085291962456116356\n",
      "7054365 -2014757526705662466  237  13835102769985634817  2208772014170310088\n",
      "7054366 -2014757526705662466  238  13835102767846539777  5917023950694882328\n",
      "7054367 -2014757526705662466  239  13835102767578105345 -7270769053707336975\n",
      "7054368 -2014757526705662466  240  13835102492700198401  7625980533342292681\n",
      "\n",
      "[7054369 rows x 4 columns]\n"
     ]
    }
   ],
   "source": [
    "import pyarrow as pa\n",
    "import pyarrow.parquet as pq\n",
    "import pyarrow.compute as pc\n",
    "\n",
    "# Read the Parquet file\n",
    "file_path = \"/Users/Macington/Documents/Projects/Project Gambit/Games/ply.parquet\"\n",
    "table = pq.read_table(file_path)\n",
    "df = table.to_pandas()\n",
    "\n",
    "print(df)\n"
   ]
  },
  {
   "cell_type": "code",
   "execution_count": 9,
   "metadata": {},
   "outputs": [
    {
     "name": "stdout",
     "output_type": "stream",
     "text": [
      "                           game_id  ply             board_sum  \\\n",
      "game_id                                                         \n",
      "1.844646e+19 0        1.844646e+19    0  18446462598732906495   \n",
      "3.689293e+19 2705610  3.689293e+19    0  18446462598732906495   \n",
      "             2705611  3.689293e+19    1  18446462598735003583   \n",
      "             2705612  3.689293e+19    0  18446462598732906495   \n",
      "             2705613  3.689293e+19    1  18446462598749683455   \n",
      "...                            ...  ...                   ...   \n",
      "3.317226e+21 2798774  3.317226e+21  236  13835102769989829121   \n",
      "             2798775  3.317226e+21  237  13835102769985634817   \n",
      "             2798776  3.317226e+21  238  13835102767846539777   \n",
      "             2798777  3.317226e+21  239  13835102767578105345   \n",
      "             2798778  3.317226e+21  240  13835102492700198401   \n",
      "\n",
      "                         progression_hash  \n",
      "game_id                                    \n",
      "1.844646e+19 0        6548726006382385350  \n",
      "3.689293e+19 2705610  6548726006382385350  \n",
      "             2705611  6838202551196677307  \n",
      "             2705612  6548726006382385350  \n",
      "             2705613 -1959233720066286525  \n",
      "...                                   ...  \n",
      "3.317226e+21 2798774 -3085291962456116356  \n",
      "             2798775  2208772014170310088  \n",
      "             2798776  5917023950694882328  \n",
      "             2798777 -7270769053707336975  \n",
      "             2798778  7625980533342292681  \n",
      "\n",
      "[7054369 rows x 4 columns]\n"
     ]
    }
   ],
   "source": [
    "import pandas as pd\n",
    "import pyarrow as pa\n",
    "import pyarrow.parquet as pq\n",
    "\n",
    "# Function to compute a progressive hash for a group of board_sum values\n",
    "def progressive_hash(group):\n",
    "    hashes = []\n",
    "    progression = []\n",
    "    for value in group['board_sum']:\n",
    "        progression.append(value)\n",
    "        hashes.append(hash(tuple(progression)))\n",
    "    group['progression_hash'] = hashes\n",
    "    return group\n",
    "\n",
    "# Read the Parquet file\n",
    "file_path = \"/Users/Macington/Documents/Projects/Project Gambit/Games/Ply.parquet\"\n",
    "table = pq.read_table(file_path)\n",
    "df = table.to_pandas()\n",
    "\n",
    "# Apply the progressive hash function to each group by 'game_id'\n",
    "df = df.groupby('game_id').apply(progressive_hash)\n",
    "\n",
    "# Convert the updated DataFrame back to a pyarrow Table\n",
    "table_with_progression_hash = pa.Table.from_pandas(df)\n",
    "\n",
    "# If you want to write the updated table back to a Parquet file\n",
    "output_file_path = \"/Users/Macington/Documents/Projects/Project Gambit/Games/Ply_with_progression_hash.parquet\"\n",
    "pq.write_table(table_with_progression_hash, output_file_path)\n",
    "\n",
    "print(df)\n"
   ]
  }
 ],
 "metadata": {
  "kernelspec": {
   "display_name": "project_gambit-AZTWqFPb-py3.11",
   "language": "python",
   "name": "python3"
  },
  "language_info": {
   "codemirror_mode": {
    "name": "ipython",
    "version": 3
   },
   "file_extension": ".py",
   "mimetype": "text/x-python",
   "name": "python",
   "nbconvert_exporter": "python",
   "pygments_lexer": "ipython3",
   "version": "3.11.4"
  },
  "orig_nbformat": 4
 },
 "nbformat": 4,
 "nbformat_minor": 2
}
