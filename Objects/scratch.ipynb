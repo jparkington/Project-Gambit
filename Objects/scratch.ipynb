{
 "cells": [
  {
   "cell_type": "code",
   "execution_count": 2,
   "metadata": {},
   "outputs": [],
   "source": [
    "import pyarrow as pa\n",
    "import pyarrow.parquet as pq\n",
    "import pyarrow.compute as pc\n",
    "\n",
    "# Read the Parquet file\n",
    "file_path = \"/Users/Macington/Documents/Projects/Project Gambit/Games/Ply.parquet\"\n",
    "table = pq.read_table(file_path)\n",
    "\n",
    "# Find the index of the 'centipawn_evaluation' column\n",
    "column_index = table.schema.get_field_index('centipawn_evaluation')\n",
    "\n",
    "# Remove the 'centipawn_evaluation' column\n",
    "table_without_centipawn_evaluation = table.remove_column(column_index)\n",
    "\n",
    "# Write the updated table back to the Parquet file\n",
    "pq.write_table(table_without_centipawn_evaluation, file_path)\n"
   ]
  }
 ],
 "metadata": {
  "kernelspec": {
   "display_name": "project_gambit-AZTWqFPb-py3.11",
   "language": "python",
   "name": "python3"
  },
  "language_info": {
   "codemirror_mode": {
    "name": "ipython",
    "version": 3
   },
   "file_extension": ".py",
   "mimetype": "text/x-python",
   "name": "python",
   "nbconvert_exporter": "python",
   "pygments_lexer": "ipython3",
   "version": "3.11.4"
  },
  "orig_nbformat": 4
 },
 "nbformat": 4,
 "nbformat_minor": 2
}
