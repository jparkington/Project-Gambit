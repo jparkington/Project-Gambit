{
 "cells": [
  {
   "cell_type": "code",
   "execution_count": 36,
   "metadata": {},
   "outputs": [
    {
     "name": "stdout",
     "output_type": "stream",
     "text": [
      "              game_id    ply             board_sum  centipawn_evaluation  \\\n",
      "0        1.844646e+19    NaN  18446462598732906495                   NaN   \n",
      "2705610  3.689293e+19    NaN  18446462598732906495                   NaN   \n",
      "2705611  3.689293e+19    1.0  18446462598735003583                  18.0   \n",
      "2705612  3.689293e+19    NaN  18446462598732906495                   NaN   \n",
      "2705613  3.689293e+19    1.0  18446462598749683455                 -40.0   \n",
      "...               ...    ...                   ...                   ...   \n",
      "2798774  3.317226e+21  236.0  13835102769989829121                -433.0   \n",
      "2798775  3.317226e+21  237.0  13835102769985634817                -590.0   \n",
      "2798776  3.317226e+21  238.0  13835102767846539777                -521.0   \n",
      "2798777  3.317226e+21  239.0  13835102767578105345                  -2.0   \n",
      "2798778  3.317226e+21  240.0  13835102492700198401                  -1.0   \n",
      "\n",
      "         board_sum_in_context  \n",
      "0                1.844646e+19  \n",
      "2705610          1.844646e+19  \n",
      "2705611          3.689293e+19  \n",
      "2705612          1.844646e+19  \n",
      "2705613          3.689293e+19  \n",
      "...                       ...  \n",
      "2798774          3.261886e+21  \n",
      "2798775          3.275721e+21  \n",
      "2798776          3.289556e+21  \n",
      "2798777          3.303391e+21  \n",
      "2798778          3.317226e+21  \n",
      "\n",
      "[7054369 rows x 5 columns]\n"
     ]
    }
   ],
   "source": [
    "import pyarrow.parquet as pq\n",
    "\n",
    "# Path to the Parquet file\n",
    "file_path = \"/Users/Macington/Documents/Projects/Project Gambit/Games/Ply.parquet\"\n",
    "\n",
    "# Read the Parquet file into an Arrow table\n",
    "table = pq.read_table(file_path)\n",
    "\n",
    "# If you want to convert the Arrow table to a Pandas DataFrame\n",
    "df = table.to_pandas()\n",
    "print(df)"
   ]
  },
  {
   "cell_type": "code",
   "execution_count": 34,
   "metadata": {},
   "outputs": [],
   "source": [
    "import pyarrow.parquet as pq\n",
    "import pandas as pd\n",
    "\n",
    "# Path to the original Parquet file\n",
    "file_path = \"/Users/Macington/Documents/Projects/Project Gambit/Games/Database.parquet\"\n",
    "\n",
    "# Read the original Parquet file\n",
    "table = pq.read_table(file_path)\n",
    "\n",
    "# Separate the columns\n",
    "table1_columns = ['game_id', 'pgn']\n",
    "table2_columns = ['game_id'] + [col for col in table.schema.names if col not in table1_columns + ['total_ply']]\n",
    "\n",
    "# Create Pandas DataFrames for sorting and deduplication\n",
    "df1 = table.select(table1_columns).to_pandas()\n",
    "df2 = table.select(table2_columns).to_pandas()\n",
    "\n",
    "# Sort and deduplicate table1 by 'game_id'\n",
    "df1 = df1.drop_duplicates(subset='game_id').sort_values(by='game_id')\n",
    "\n",
    "# Sort table2 by 'game_id' and then 'ply' with nulls first\n",
    "df2 = df2.sort_values(by=['game_id', 'ply'], ascending=[True, True], na_position='first')\n",
    "\n",
    "# Convert back to pyarrow Tables\n",
    "table1 = pa.Table.from_pandas(df1)\n",
    "table2 = pa.Table.from_pandas(df2)\n",
    "\n",
    "# Output paths\n",
    "output_directory = \"/Users/Macington/Documents/Projects/Project Gambit/Games/\"\n",
    "output_file1 = f\"{output_directory}PGNs.parquet\"\n",
    "output_file2 = f\"{output_directory}Ply.parquet\"\n",
    "\n",
    "# Write the separated tables to Parquet files with snappy compression\n",
    "pq.write_table(table1, output_file1, compression='brotli')\n",
    "pq.write_table(table2, output_file2, compression='brotli')\n"
   ]
  }
 ],
 "metadata": {
  "kernelspec": {
   "display_name": "project_gambit-AZTWqFPb-py3.11",
   "language": "python",
   "name": "python3"
  },
  "language_info": {
   "codemirror_mode": {
    "name": "ipython",
    "version": 3
   },
   "file_extension": ".py",
   "mimetype": "text/x-python",
   "name": "python",
   "nbconvert_exporter": "python",
   "pygments_lexer": "ipython3",
   "version": "3.11.4"
  },
  "orig_nbformat": 4
 },
 "nbformat": 4,
 "nbformat_minor": 2
}
