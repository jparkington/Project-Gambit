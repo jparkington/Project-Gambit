{
 "cells": [
  {
   "cell_type": "code",
   "execution_count": 33,
   "metadata": {},
   "outputs": [
    {
     "name": "stdout",
     "output_type": "stream",
     "text": [
      "                      pgn_id  ply             board_sum     progression_hash  \\\n",
      "0        4966373121947802697    0  18446462598732906495  6548726006382385350   \n",
      "1        1613272150230853183    0  18446462598732906495  6548726006382385350   \n",
      "2        1613272150230853183    1  18446462598735003583  6838202551196677307   \n",
      "3         127762129624462438    0  18446462598732906495  6548726006382385350   \n",
      "4         127762129624462438    1  18446462598749683455 -1959233720066286525   \n",
      "...                      ...  ...                   ...                  ...   \n",
      "7054364 -2014757526705662466  236  13835102769989829121 -3085291962456116356   \n",
      "7054365 -2014757526705662466  237  13835102769985634817  2208772014170310088   \n",
      "7054366 -2014757526705662466  238  13835102767846539777  5917023950694882328   \n",
      "7054367 -2014757526705662466  239  13835102767578105345 -7270769053707336975   \n",
      "7054368 -2014757526705662466  240  13835102492700198401  7625980533342292681   \n",
      "\n",
      "         centipawn  \n",
      "0             18.0  \n",
      "1             18.0  \n",
      "2             14.0  \n",
      "3             18.0  \n",
      "4              NaN  \n",
      "...            ...  \n",
      "7054364        NaN  \n",
      "7054365        NaN  \n",
      "7054366        NaN  \n",
      "7054367        NaN  \n",
      "7054368        NaN  \n",
      "\n",
      "[7054369 rows x 5 columns]\n"
     ]
    }
   ],
   "source": [
    "import pyarrow as pa\n",
    "import pyarrow.parquet as pq\n",
    "import pyarrow.compute as pc\n",
    "\n",
    "# Read the Parquet file\n",
    "file_path = \"/Users/Macington/Documents/Projects/Project Gambit/Games/ply.parquet\"\n",
    "table = pq.read_table(file_path)\n",
    "df = table.to_pandas()\n",
    "\n",
    "print(df)\n"
   ]
  }
 ],
 "metadata": {
  "kernelspec": {
   "display_name": "project_gambit-AZTWqFPb-py3.11",
   "language": "python",
   "name": "python3"
  },
  "language_info": {
   "codemirror_mode": {
    "name": "ipython",
    "version": 3
   },
   "file_extension": ".py",
   "mimetype": "text/x-python",
   "name": "python",
   "nbconvert_exporter": "python",
   "pygments_lexer": "ipython3",
   "version": "3.11.4"
  },
  "orig_nbformat": 4
 },
 "nbformat": 4,
 "nbformat_minor": 2
}
